{
 "cells": [
  {
   "cell_type": "code",
   "execution_count": 1,
   "id": "a0964064",
   "metadata": {},
   "outputs": [
    {
     "name": "stdout",
     "output_type": "stream",
     "text": [
      "(400, 4)\n"
     ]
    },
    {
     "data": {
      "image/png": "[encoded data removed]",
      "text/plain": [
       "<Figure size 432x288 with 1 Axes>"
      ]
     },
     "metadata": {
      "needs_background": "light"
     },
     "output_type": "display_data"
    }
   ],
   "source": [
    "import numpy as np\n",
    "import matplotlib.pyplot as plt\n",
    "import time\n",
    "from matplotlib.colors import LightSource\n",
    "def my_spher(N = 20, R=2):\n",
    "  # parametric\n",
    "  u = np.linspace(0, 2 * np.pi, N)\n",
    "  v = np.linspace(0, np.pi, N)\n",
    "  x = R * np.outer(np.cos(u), np.sin(v))\n",
    "  y = R * np.outer(np.sin(u), np.sin(v))\n",
    "  z = R * np.outer(np.ones(np.size(u)), np.cos(v))\n",
    "  return x,y,z\n",
    "xs = np.linspace(-20, 80, 100)\n",
    "ys = np.linspace(-20, 50, 100)\n",
    "X1, Y1 = np.meshgrid(xs, ys)\n",
    "\n",
    "a1=np.pi/5#угол к гаризонту\n",
    "\n",
    "alf = 24/180*np.pi#  угол между соседними точками окружности\n",
    "r = 5 # радиус цилиндра \n",
    "Rz=[[np.cos(alf), np.sin(alf), 0,0],[-np.sin(alf),  np.cos(alf), 0,0],[0, 0, 1,0],[0,0,0,1]]\n",
    "Ry=np.array([[ np.cos(a1), 0,  -np.sin(a1),0],[0,1, 0,0],[ np.sin(a1), 0, np.cos(a1),0],[0,0,0,1]])#матрица поворота относительно Yо\n",
    "# Rx=np.array([[1, 0, 0, 0],[0, np.cos(a1), -np.sin(a1),0],[0, np.sin(a1), np.cos(a1),0],[0,0,0,1]]) # почему - то не работает \n",
    "P0 = [2,0, 10,1]\n",
    "O0 = [r/1.44 ,0, 0,1]\n",
    "P=[O0]#1 основание\n",
    "O0 = [r/2 ,0, 0,1]\n",
    "P_new=[O0]#1 основание\n",
    "Tp = np.array([[1, 0, 0,0],[0 ,1 ,0,0],[0,0,1,0],[ P0[0],P0[1],P0[2] , 1]])# высота пушки\n",
    "for  n in np.linspace( 0,360, 360 // 10):\n",
    "    P += [np.dot(P[-1][:],Rz).tolist()]# создаем список координат окружности \n",
    "    P_new += [np.dot(P_new[-1][:],Rz).tolist()]\n",
    "# Q=np.eye(4) #необязательно \n",
    "P=np.array(P)# делаем массив координат окружности\n",
    "P_new=np.array(P_new)\n",
    "Q=Tp.dot(Ry)# матрица преобразований для пушки\n",
    "# print(Q,\"...\")\n",
    "P_new=P_new.dot(Q)# верхнее основание пушки повернутое на угол к горизонту \n",
    "# print(np.size(P))\n",
    "P=P.dot(Ry)# нижнее основание пушки повернутое на угол к горизонту \n",
    "Pr2=[]\n",
    "for i in range(30):\n",
    "#     ax.plot3D([P[i,0],P_new[i,0]],[P[i,1],P_new[i,1]],[P[i,2], P_new[i,2]],'b')\n",
    "    Pr2+=[P[i,:]]\n",
    "    Pr2+=[P_new[i,:]]\n",
    "Pr2+=[P[0,:]]\n",
    "Pr2+=[P_new[0,:]]\n",
    "\n",
    "Pr2=np.array(Pr2)# делаем матрицу закраски ТРЕУГОЛЬНИКАМИ , можно квадратиками \n",
    "\n",
    "fig = plt.figure()\n",
    "ax = fig.add_subplot(projection='3d')# создаем среду \n",
    "\n",
    "ax.plot3D(P[:,0],P[:,1],P[:,2])\n",
    "ax.plot3D(P_new[:,0],P_new[:,1],P_new[:,2])# рисуем основания пушки \n",
    "for i in range(30):\n",
    "    ax.plot_trisurf(Pr2[i:(i+3),0],Pr2[i:(i+3),1],Pr2[i:(i+3),2],  linewidth = 0.2,\n",
    "                         antialiased = True, shade=True ,alpha=0.5,color='b')# цвет+прозрачность пушки\n",
    "light_1 = LightSource(azdeg=300, altdeg=45)    \n",
    "Z1=X1-X1-5\n",
    "ax.plot_surface(X1, Y1, Z1,rcount=40, ccount=40,\n",
    "                      linewidth=0.5, color='g',alpha = 0.45,lightsource=light_1)\n",
    "X,Y,Z = my_spher()\n",
    "ax.set_xlim(-10, 80)\n",
    "ax.set_ylim(-10, 40)\n",
    "ax.set_zlim(-2, 35)\n",
    "ax.view_init(elev=0, azim=90)\n",
    "# Begin plotting.\n",
    "wframe = None\n",
    "tstart = time.time()\n",
    "XYZ = np.hstack((X.reshape(-1,1)+2,Y.reshape(-1,1)+2,Z.reshape(-1,1)+2,np.ones((X.size,1))))\n",
    "print(XYZ.shape)\n",
    "\n",
    "\n",
    "\n",
    "    # Plot the new wireframe and pause briefly before continuing.\n",
    "    \n",
    "wframe = ax.plot_surface(XYZ[:,0].reshape(-1,10), XYZ[:,1].reshape(-1,10), XYZ[:,2].reshape(-1,10),color='b',lightsource=light_1)\n",
    "    #plt.pause(.001)\n",
    "    #plt.show()\n",
    "\n",
    "\n",
    "\n",
    "plt.show()"
   ]
  },
  {
   "cell_type": "code",
   "execution_count": null,
   "id": "1a1e46f1",
   "metadata": {},
   "outputs": [],
   "source": []
  }
 ],
 "metadata": {
  "kernelspec": {
   "display_name": "Python 3 (ipykernel)",
   "language": "python",
   "name": "python3"
  },
  "language_info": {
   "codemirror_mode": {
    "name": "ipython",
    "version": 3
   },
   "file_extension": ".py",
   "mimetype": "text/x-python",
   "name": "python",
   "nbconvert_exporter": "python",
   "pygments_lexer": "ipython3",
   "version": "3.8.8"
  }
 },
 "nbformat": 4,
 "nbformat_minor": 5
}
